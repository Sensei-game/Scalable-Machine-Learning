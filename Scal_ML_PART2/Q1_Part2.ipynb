{
 "cells": [
  {
   "cell_type": "markdown",
   "id": "0bd06cd0",
   "metadata": {},
   "source": [
    "### Question 1. Log Mining and Analysis [15 marks] \n",
    "You need to finish Lab 1 and Lab 2 before solving this question.\n",
    "Data: Use wget to download the NASA access log July 1995 data (using the hyperlink ftp://ita.ee.lbl.gov/traces/NASA_access_log_Jul95.gz) to the “Data” folder. The data description is the same as in Lab 2 Task 4 Question 1 so please review it to understand the data before completing the four tasks below.  \n",
    "\n",
    "* #### A.\tFind out the maximum number and minimum number of requests on each of the seven days in a week (i.e., Monday, Tuesday, Wednesday, Thursday, Friday, Saturday, and Sunday) during July 1995. You need to report 14 numbers, one max number and one min number for each day of the week. Hint: see pyspark sql API related to data format. [4 marks]\n",
    "\n",
    "* #### B.\tVisualise the 14 numbers in A above in ONE figure to help gain insights from them [2 marks]\n",
    "\n",
    "* #### C.\tFind out the 12 most requested and 12 least requested .mpg videos. Report the video file name, e.g. abc.mpg, and the total number of requests for each of these 24 videos during July 1995. [4 marks]\n",
    "\n",
    "* #### D.\tVisualise the 24 total request numbers in C as ONE figure to help gain insights from them [2 marks] \n",
    "\n",
    "* #### E.\tDiscuss two most interesting observations from A to D above, each with three sentences: 1) What is the observation? 2) What are the possible causes of the observation? 3) How useful is this observation to NASA? [2 marks]\n",
    "\n",
    "* #### F.\tYour report must be clearly written and your code must be well documented so that it is clear what each step is doing. [1 mark]\n"
   ]
  },
  {
   "cell_type": "code",
   "execution_count": 1,
   "id": "9642c8f8",
   "metadata": {},
   "outputs": [],
   "source": [
    "import pyspark\n",
    "from pyspark.sql import SparkSession\n",
    "import re\n",
    "import pandas as pd\n",
    "\n",
    "\n",
    "\n",
    "spark = SparkSession.Builder().master(\"local[6]\").appName(\"Scalab_Q1_Part2\").config(\"spark.local.dir\",\"C:\\temp\").getOrCreate()\n",
    "\n"
   ]
  },
  {
   "cell_type": "code",
   "execution_count": 2,
   "id": "181e79b3",
   "metadata": {},
   "outputs": [],
   "source": [
    "import matplotlib \n",
    "matplotlib.use('Agg') # Must be before importing matplotlib.pyplot or pylab! \n",
    "import matplotlib.pyplot as plt\n"
   ]
  },
  {
   "cell_type": "code",
   "execution_count": 3,
   "id": "1799ceb7",
   "metadata": {},
   "outputs": [
    {
     "name": "stdout",
     "output_type": "stream",
     "text": [
      "<re.Match object; span=(0, 25), match=\"I'm searching for a spark\"> 0 25\n",
      "<re.Match object; span=(25, 36), match=' in PySpark'> 25 36\n"
     ]
    }
   ],
   "source": [
    "m = re.finditer(r'.*?(spark).*?', \"I'm searching for a spark in PySpark\", re.I)\n",
    "for match in m:\n",
    "    print(match, match.start(), match.end())"
   ]
  },
  {
   "cell_type": "code",
   "execution_count": 4,
   "id": "94bd5f40",
   "metadata": {},
   "outputs": [],
   "source": [
    "import pyspark.sql.functions as F\n",
    "\n",
    "logFile = spark.read.text(\"NASA_access_log_Jul95.gz\").cache()  # add it to cache, so it can be used in the following steps efficiently      \n",
    "# logFile.show(20, False)\n",
    "\n"
   ]
  },
  {
   "cell_type": "code",
   "execution_count": 5,
   "id": "8b467c05",
   "metadata": {},
   "outputs": [
    {
     "data": {
      "text/plain": [
       "pyspark.sql.dataframe.DataFrame"
      ]
     },
     "execution_count": 5,
     "metadata": {},
     "output_type": "execute_result"
    }
   ],
   "source": [
    "type(logFile)\n",
    "# logFile.printSchema()"
   ]
  },
  {
   "cell_type": "code",
   "execution_count": 6,
   "id": "212c4085",
   "metadata": {},
   "outputs": [
    {
     "data": {
      "text/plain": [
       "pyspark.rdd.RDD"
      ]
     },
     "execution_count": 6,
     "metadata": {},
     "output_type": "execute_result"
    }
   ],
   "source": [
    "logFile_rdd = logFile.rdd\n",
    "type(logFile_rdd)"
   ]
  },
  {
   "cell_type": "code",
   "execution_count": 7,
   "id": "50a23ced",
   "metadata": {
    "scrolled": true
   },
   "outputs": [
    {
     "name": "stdout",
     "output_type": "stream",
     "text": [
      "+------------------------------------------------------------------------------------------------------------------------------+\n",
      "|value                                                                                                                         |\n",
      "+------------------------------------------------------------------------------------------------------------------------------+\n",
      "|199.72.81.55 - - [01/Jul/1995:00:00:01 -0400] \"GET /history/apollo/ HTTP/1.0\" 200 6245                                        |\n",
      "|unicomp6.unicomp.net - - [01/Jul/1995:00:00:06 -0400] \"GET /shuttle/countdown/ HTTP/1.0\" 200 3985                             |\n",
      "|199.120.110.21 - - [01/Jul/1995:00:00:09 -0400] \"GET /shuttle/missions/sts-73/mission-sts-73.html HTTP/1.0\" 200 4085          |\n",
      "|burger.letters.com - - [01/Jul/1995:00:00:11 -0400] \"GET /shuttle/countdown/liftoff.html HTTP/1.0\" 304 0                      |\n",
      "|199.120.110.21 - - [01/Jul/1995:00:00:11 -0400] \"GET /shuttle/missions/sts-73/sts-73-patch-small.gif HTTP/1.0\" 200 4179       |\n",
      "|burger.letters.com - - [01/Jul/1995:00:00:12 -0400] \"GET /images/NASA-logosmall.gif HTTP/1.0\" 304 0                           |\n",
      "|burger.letters.com - - [01/Jul/1995:00:00:12 -0400] \"GET /shuttle/countdown/video/livevideo.gif HTTP/1.0\" 200 0               |\n",
      "|205.212.115.106 - - [01/Jul/1995:00:00:12 -0400] \"GET /shuttle/countdown/countdown.html HTTP/1.0\" 200 3985                    |\n",
      "|d104.aa.net - - [01/Jul/1995:00:00:13 -0400] \"GET /shuttle/countdown/ HTTP/1.0\" 200 3985                                      |\n",
      "|129.94.144.152 - - [01/Jul/1995:00:00:13 -0400] \"GET / HTTP/1.0\" 200 7074                                                     |\n",
      "|unicomp6.unicomp.net - - [01/Jul/1995:00:00:14 -0400] \"GET /shuttle/countdown/count.gif HTTP/1.0\" 200 40310                   |\n",
      "|unicomp6.unicomp.net - - [01/Jul/1995:00:00:14 -0400] \"GET /images/NASA-logosmall.gif HTTP/1.0\" 200 786                       |\n",
      "|unicomp6.unicomp.net - - [01/Jul/1995:00:00:14 -0400] \"GET /images/KSC-logosmall.gif HTTP/1.0\" 200 1204                       |\n",
      "|d104.aa.net - - [01/Jul/1995:00:00:15 -0400] \"GET /shuttle/countdown/count.gif HTTP/1.0\" 200 40310                            |\n",
      "|d104.aa.net - - [01/Jul/1995:00:00:15 -0400] \"GET /images/NASA-logosmall.gif HTTP/1.0\" 200 786                                |\n",
      "|d104.aa.net - - [01/Jul/1995:00:00:15 -0400] \"GET /images/KSC-logosmall.gif HTTP/1.0\" 200 1204                                |\n",
      "|129.94.144.152 - - [01/Jul/1995:00:00:17 -0400] \"GET /images/ksclogo-medium.gif HTTP/1.0\" 304 0                               |\n",
      "|199.120.110.21 - - [01/Jul/1995:00:00:17 -0400] \"GET /images/launch-logo.gif HTTP/1.0\" 200 1713                               |\n",
      "|ppptky391.asahi-net.or.jp - - [01/Jul/1995:00:00:18 -0400] \"GET /facts/about_ksc.html HTTP/1.0\" 200 3977                      |\n",
      "|net-1-141.eden.com - - [01/Jul/1995:00:00:19 -0400] \"GET /shuttle/missions/sts-71/images/KSC-95EC-0916.jpg HTTP/1.0\" 200 34029|\n",
      "+------------------------------------------------------------------------------------------------------------------------------+\n",
      "only showing top 20 rows\n",
      "\n"
     ]
    }
   ],
   "source": [
    "logFile.show(20, truncate=False)"
   ]
  },
  {
   "cell_type": "code",
   "execution_count": 8,
   "id": "847da340",
   "metadata": {},
   "outputs": [],
   "source": [
    "# logFile_rdd.take(20)"
   ]
  },
  {
   "cell_type": "code",
   "execution_count": 9,
   "id": "1270a5d0",
   "metadata": {},
   "outputs": [
    {
     "name": "stdout",
     "output_type": "stream",
     "text": [
      "(1891715, 1)\n"
     ]
    }
   ],
   "source": [
    "print((logFile.count(), len(logFile.columns)))"
   ]
  },
  {
   "cell_type": "code",
   "execution_count": 10,
   "id": "82c1b074",
   "metadata": {},
   "outputs": [
    {
     "data": {
      "text/plain": [
       "['199.72.81.55 - - [01/Jul/1995:00:00:01 -0400] \"GET /history/apollo/ HTTP/1.0\" 200 6245',\n",
       " 'unicomp6.unicomp.net - - [01/Jul/1995:00:00:06 -0400] \"GET /shuttle/countdown/ HTTP/1.0\" 200 3985',\n",
       " '199.120.110.21 - - [01/Jul/1995:00:00:09 -0400] \"GET /shuttle/missions/sts-73/mission-sts-73.html HTTP/1.0\" 200 4085',\n",
       " 'burger.letters.com - - [01/Jul/1995:00:00:11 -0400] \"GET /shuttle/countdown/liftoff.html HTTP/1.0\" 304 0',\n",
       " '199.120.110.21 - - [01/Jul/1995:00:00:11 -0400] \"GET /shuttle/missions/sts-73/sts-73-patch-small.gif HTTP/1.0\" 200 4179',\n",
       " 'burger.letters.com - - [01/Jul/1995:00:00:12 -0400] \"GET /images/NASA-logosmall.gif HTTP/1.0\" 304 0',\n",
       " 'burger.letters.com - - [01/Jul/1995:00:00:12 -0400] \"GET /shuttle/countdown/video/livevideo.gif HTTP/1.0\" 200 0',\n",
       " '205.212.115.106 - - [01/Jul/1995:00:00:12 -0400] \"GET /shuttle/countdown/countdown.html HTTP/1.0\" 200 3985',\n",
       " 'd104.aa.net - - [01/Jul/1995:00:00:13 -0400] \"GET /shuttle/countdown/ HTTP/1.0\" 200 3985',\n",
       " '129.94.144.152 - - [01/Jul/1995:00:00:13 -0400] \"GET / HTTP/1.0\" 200 7074',\n",
       " 'unicomp6.unicomp.net - - [01/Jul/1995:00:00:14 -0400] \"GET /shuttle/countdown/count.gif HTTP/1.0\" 200 40310',\n",
       " 'unicomp6.unicomp.net - - [01/Jul/1995:00:00:14 -0400] \"GET /images/NASA-logosmall.gif HTTP/1.0\" 200 786',\n",
       " 'unicomp6.unicomp.net - - [01/Jul/1995:00:00:14 -0400] \"GET /images/KSC-logosmall.gif HTTP/1.0\" 200 1204',\n",
       " 'd104.aa.net - - [01/Jul/1995:00:00:15 -0400] \"GET /shuttle/countdown/count.gif HTTP/1.0\" 200 40310',\n",
       " 'd104.aa.net - - [01/Jul/1995:00:00:15 -0400] \"GET /images/NASA-logosmall.gif HTTP/1.0\" 200 786']"
      ]
     },
     "execution_count": 10,
     "metadata": {},
     "output_type": "execute_result"
    }
   ],
   "source": [
    "sample_logs = [item['value'] for item in logFile.take(15)]\n",
    "sample_logs"
   ]
  },
  {
   "cell_type": "code",
   "execution_count": 11,
   "id": "10b7ef5a",
   "metadata": {},
   "outputs": [
    {
     "data": {
      "text/plain": [
       "['199.72.81.55',\n",
       " 'unicomp6.unicomp.net',\n",
       " '199.120.110.21',\n",
       " 'burger.letters.com',\n",
       " '199.120.110.21',\n",
       " 'burger.letters.com',\n",
       " 'burger.letters.com',\n",
       " '205.212.115.106',\n",
       " 'd104.aa.net',\n",
       " '129.94.144.152',\n",
       " 'unicomp6.unicomp.net',\n",
       " 'unicomp6.unicomp.net',\n",
       " 'unicomp6.unicomp.net',\n",
       " 'd104.aa.net',\n",
       " 'd104.aa.net']"
      ]
     },
     "execution_count": 11,
     "metadata": {},
     "output_type": "execute_result"
    }
   ],
   "source": [
    "host_pattern = r'(^\\S+\\.[\\S+\\.]+\\S+)\\s'\n",
    "hosts = [re.search(host_pattern, item).group(1)\n",
    "           if re.search(host_pattern, item)\n",
    "           else 'no match'\n",
    "           for item in sample_logs]\n",
    "hosts"
   ]
  },
  {
   "cell_type": "code",
   "execution_count": 12,
   "id": "484212e0",
   "metadata": {},
   "outputs": [
    {
     "data": {
      "text/plain": [
       "['01/Jul/1995:00:00:01 -0400',\n",
       " '01/Jul/1995:00:00:06 -0400',\n",
       " '01/Jul/1995:00:00:09 -0400',\n",
       " '01/Jul/1995:00:00:11 -0400',\n",
       " '01/Jul/1995:00:00:11 -0400',\n",
       " '01/Jul/1995:00:00:12 -0400',\n",
       " '01/Jul/1995:00:00:12 -0400',\n",
       " '01/Jul/1995:00:00:12 -0400',\n",
       " '01/Jul/1995:00:00:13 -0400',\n",
       " '01/Jul/1995:00:00:13 -0400',\n",
       " '01/Jul/1995:00:00:14 -0400',\n",
       " '01/Jul/1995:00:00:14 -0400',\n",
       " '01/Jul/1995:00:00:14 -0400',\n",
       " '01/Jul/1995:00:00:15 -0400',\n",
       " '01/Jul/1995:00:00:15 -0400']"
      ]
     },
     "execution_count": 12,
     "metadata": {},
     "output_type": "execute_result"
    }
   ],
   "source": [
    "ts_pattern = r'\\[(\\d{2}/\\w{3}/\\d{4}:\\d{2}:\\d{2}:\\d{2} -\\d{4})]'\n",
    "timestamps = [re.search(ts_pattern, item).group(1) for item in sample_logs]\n",
    "timestamps"
   ]
  },
  {
   "cell_type": "code",
   "execution_count": 13,
   "id": "e3c80ad9",
   "metadata": {},
   "outputs": [
    {
     "data": {
      "text/plain": [
       "[('GET', '/history/apollo/', 'HTTP/1.0'),\n",
       " ('GET', '/shuttle/countdown/', 'HTTP/1.0'),\n",
       " ('GET', '/shuttle/missions/sts-73/mission-sts-73.html', 'HTTP/1.0'),\n",
       " ('GET', '/shuttle/countdown/liftoff.html', 'HTTP/1.0'),\n",
       " ('GET', '/shuttle/missions/sts-73/sts-73-patch-small.gif', 'HTTP/1.0'),\n",
       " ('GET', '/images/NASA-logosmall.gif', 'HTTP/1.0'),\n",
       " ('GET', '/shuttle/countdown/video/livevideo.gif', 'HTTP/1.0'),\n",
       " ('GET', '/shuttle/countdown/countdown.html', 'HTTP/1.0'),\n",
       " ('GET', '/shuttle/countdown/', 'HTTP/1.0'),\n",
       " ('GET', '/', 'HTTP/1.0'),\n",
       " ('GET', '/shuttle/countdown/count.gif', 'HTTP/1.0'),\n",
       " ('GET', '/images/NASA-logosmall.gif', 'HTTP/1.0'),\n",
       " ('GET', '/images/KSC-logosmall.gif', 'HTTP/1.0'),\n",
       " ('GET', '/shuttle/countdown/count.gif', 'HTTP/1.0'),\n",
       " ('GET', '/images/NASA-logosmall.gif', 'HTTP/1.0')]"
      ]
     },
     "execution_count": 13,
     "metadata": {},
     "output_type": "execute_result"
    }
   ],
   "source": [
    "method_uri_protocol_pattern = r'\\\"(\\S+)\\s(\\S+)\\s*(\\S*)\\\"'\n",
    "method_uri_protocol = [re.search(method_uri_protocol_pattern, item).groups()\n",
    "               if re.search(method_uri_protocol_pattern, item)\n",
    "               else 'no match'\n",
    "              for item in sample_logs]\n",
    "method_uri_protocol"
   ]
  },
  {
   "cell_type": "code",
   "execution_count": 14,
   "id": "01ec1590",
   "metadata": {},
   "outputs": [
    {
     "name": "stdout",
     "output_type": "stream",
     "text": [
      "['200', '200', '200', '304', '200', '304', '200', '200', '200', '200', '200', '200', '200', '200', '200']\n"
     ]
    }
   ],
   "source": [
    "status_pattern = r'\\s(\\d{3})\\s'\n",
    "status = [re.search(status_pattern, item).group(1) for item in sample_logs]\n",
    "print(status)"
   ]
  },
  {
   "cell_type": "code",
   "execution_count": 15,
   "id": "5d042d94",
   "metadata": {},
   "outputs": [
    {
     "name": "stdout",
     "output_type": "stream",
     "text": [
      "['6245', '3985', '4085', '0', '4179', '0', '0', '3985', '3985', '7074', '40310', '786', '1204', '40310', '786']\n"
     ]
    }
   ],
   "source": [
    "content_size_pattern = r'\\s(\\d+)$'\n",
    "content_size = [re.search(content_size_pattern, item).group(1) for item in sample_logs]\n",
    "print(content_size)"
   ]
  },
  {
   "cell_type": "code",
   "execution_count": 16,
   "id": "f67057ac",
   "metadata": {},
   "outputs": [
    {
     "name": "stdout",
     "output_type": "stream",
     "text": [
      "+--------------------+--------------------+------+--------------------+--------+------+------------+\n",
      "|                host|           timestamp|method|            endpoint|protocol|status|content_size|\n",
      "+--------------------+--------------------+------+--------------------+--------+------+------------+\n",
      "|        199.72.81.55|01/Jul/1995:00:00...|   GET|    /history/apollo/|HTTP/1.0|   200|        6245|\n",
      "|unicomp6.unicomp.net|01/Jul/1995:00:00...|   GET| /shuttle/countdown/|HTTP/1.0|   200|        3985|\n",
      "|      199.120.110.21|01/Jul/1995:00:00...|   GET|/shuttle/missions...|HTTP/1.0|   200|        4085|\n",
      "|  burger.letters.com|01/Jul/1995:00:00...|   GET|/shuttle/countdow...|HTTP/1.0|   304|           0|\n",
      "|      199.120.110.21|01/Jul/1995:00:00...|   GET|/shuttle/missions...|HTTP/1.0|   200|        4179|\n",
      "|  burger.letters.com|01/Jul/1995:00:00...|   GET|/images/NASA-logo...|HTTP/1.0|   304|           0|\n",
      "|  burger.letters.com|01/Jul/1995:00:00...|   GET|/shuttle/countdow...|HTTP/1.0|   200|           0|\n",
      "|     205.212.115.106|01/Jul/1995:00:00...|   GET|/shuttle/countdow...|HTTP/1.0|   200|        3985|\n",
      "|         d104.aa.net|01/Jul/1995:00:00...|   GET| /shuttle/countdown/|HTTP/1.0|   200|        3985|\n",
      "|      129.94.144.152|01/Jul/1995:00:00...|   GET|                   /|HTTP/1.0|   200|        7074|\n",
      "|unicomp6.unicomp.net|01/Jul/1995:00:00...|   GET|/shuttle/countdow...|HTTP/1.0|   200|       40310|\n",
      "|unicomp6.unicomp.net|01/Jul/1995:00:00...|   GET|/images/NASA-logo...|HTTP/1.0|   200|         786|\n",
      "|unicomp6.unicomp.net|01/Jul/1995:00:00...|   GET|/images/KSC-logos...|HTTP/1.0|   200|        1204|\n",
      "|         d104.aa.net|01/Jul/1995:00:00...|   GET|/shuttle/countdow...|HTTP/1.0|   200|       40310|\n",
      "|         d104.aa.net|01/Jul/1995:00:00...|   GET|/images/NASA-logo...|HTTP/1.0|   200|         786|\n",
      "|         d104.aa.net|01/Jul/1995:00:00...|   GET|/images/KSC-logos...|HTTP/1.0|   200|        1204|\n",
      "|      129.94.144.152|01/Jul/1995:00:00...|   GET|/images/ksclogo-m...|HTTP/1.0|   304|           0|\n",
      "|      199.120.110.21|01/Jul/1995:00:00...|   GET|/images/launch-lo...|HTTP/1.0|   200|        1713|\n",
      "|ppptky391.asahi-n...|01/Jul/1995:00:00...|   GET|/facts/about_ksc....|HTTP/1.0|   200|        3977|\n",
      "|  net-1-141.eden.com|01/Jul/1995:00:00...|   GET|/shuttle/missions...|HTTP/1.0|   200|       34029|\n",
      "+--------------------+--------------------+------+--------------------+--------+------+------------+\n",
      "only showing top 20 rows\n",
      "\n",
      "(1891715, 7)\n"
     ]
    }
   ],
   "source": [
    "from pyspark.sql.functions import regexp_extract\n",
    "\n",
    "logs_df = logFile.select(regexp_extract('value', host_pattern, 1).alias('host'),\n",
    "                         regexp_extract('value', ts_pattern, 1).alias('timestamp'),\n",
    "                         regexp_extract('value', method_uri_protocol_pattern, 1).alias('method'),\n",
    "                         regexp_extract('value', method_uri_protocol_pattern, 2).alias('endpoint'),\n",
    "                         regexp_extract('value', method_uri_protocol_pattern, 3).alias('protocol'),\n",
    "                         regexp_extract('value', status_pattern, 1).cast('integer').alias('status'),\n",
    "                         regexp_extract('value', content_size_pattern, 1).cast('integer').alias('content_size'))\n",
    "logs_df.show(20, truncate=True)\n",
    "print((logs_df.count(), len(logs_df.columns)))"
   ]
  },
  {
   "cell_type": "code",
   "execution_count": 17,
   "id": "ad44a722",
   "metadata": {},
   "outputs": [
    {
     "data": {
      "text/plain": [
       "0"
      ]
     },
     "execution_count": 17,
     "metadata": {},
     "output_type": "execute_result"
    }
   ],
   "source": [
    "(logFile\n",
    "    .filter(logFile['value']\n",
    "                .isNull())\n",
    "    .count())"
   ]
  },
  {
   "cell_type": "code",
   "execution_count": 18,
   "id": "02b6576b",
   "metadata": {},
   "outputs": [
    {
     "data": {
      "text/plain": [
       "19727"
      ]
     },
     "execution_count": 18,
     "metadata": {},
     "output_type": "execute_result"
    }
   ],
   "source": [
    "\n",
    "\n",
    "bad_rows_df = logs_df.filter(logs_df['host'].isNull()| \n",
    "                             logs_df['timestamp'].isNull() | \n",
    "                             logs_df['method'].isNull() |\n",
    "                             logs_df['endpoint'].isNull() |\n",
    "                             logs_df['status'].isNull() |\n",
    "                             logs_df['content_size'].isNull()|\n",
    "                             logs_df['protocol'].isNull())\n",
    "bad_rows_df.count()\n",
    "\n"
   ]
  },
  {
   "cell_type": "code",
   "execution_count": 19,
   "id": "e1a83211",
   "metadata": {},
   "outputs": [
    {
     "data": {
      "text/plain": [
       "['host',\n",
       " 'timestamp',\n",
       " 'method',\n",
       " 'endpoint',\n",
       " 'protocol',\n",
       " 'status',\n",
       " 'content_size']"
      ]
     },
     "execution_count": 19,
     "metadata": {},
     "output_type": "execute_result"
    }
   ],
   "source": [
    "logs_df.columns"
   ]
  },
  {
   "cell_type": "code",
   "execution_count": 20,
   "id": "22220b0e",
   "metadata": {},
   "outputs": [
    {
     "name": "stdout",
     "output_type": "stream",
     "text": [
      "+----+---------+------+--------+--------+------+------------+\n",
      "|host|timestamp|method|endpoint|protocol|status|content_size|\n",
      "+----+---------+------+--------+--------+------+------------+\n",
      "|   0|        0|     0|       0|       0|     1|       19727|\n",
      "+----+---------+------+--------+--------+------+------------+\n",
      "\n"
     ]
    }
   ],
   "source": [
    "from pyspark.sql.functions import col\n",
    "from pyspark.sql.functions import sum as spark_sum\n",
    "\n",
    "def count_null(col_name):\n",
    "    return spark_sum(col(col_name).isNull().cast('integer')).alias(col_name)\n",
    "\n",
    "# Build up a list of column expressions, one per column.\n",
    "exprs = [count_null(col_name) for col_name in logs_df.columns]\n",
    "\n",
    "# Run the aggregation. The *exprs converts the list of expressions into\n",
    "# variable function arguments.\n",
    "logs_df.agg(*exprs).show()"
   ]
  },
  {
   "cell_type": "markdown",
   "id": "e89b5be3",
   "metadata": {},
   "source": [
    "Note: In the expression below, ~ means \"not\"."
   ]
  },
  {
   "cell_type": "code",
   "execution_count": 21,
   "id": "1a268517",
   "metadata": {},
   "outputs": [
    {
     "data": {
      "text/plain": [
       "1"
      ]
     },
     "execution_count": 21,
     "metadata": {},
     "output_type": "execute_result"
    }
   ],
   "source": [
    "null_status_df = logFile.filter(~logFile['value'].rlike(r'\\s(\\d{3})\\s'))\n",
    "null_status_df.count()"
   ]
  },
  {
   "cell_type": "code",
   "execution_count": 22,
   "id": "23344d29",
   "metadata": {},
   "outputs": [
    {
     "name": "stdout",
     "output_type": "stream",
     "text": [
      "+--------+\n",
      "|value   |\n",
      "+--------+\n",
      "|alyssa.p|\n",
      "+--------+\n",
      "\n"
     ]
    }
   ],
   "source": [
    "null_status_df.show(truncate=False)"
   ]
  },
  {
   "cell_type": "code",
   "execution_count": 23,
   "id": "91aa86f8",
   "metadata": {},
   "outputs": [
    {
     "name": "stdout",
     "output_type": "stream",
     "text": [
      "+----+---------+------+--------+--------+------+------------+\n",
      "|host|timestamp|method|endpoint|protocol|status|content_size|\n",
      "+----+---------+------+--------+--------+------+------------+\n",
      "|    |         |      |        |        |null  |null        |\n",
      "+----+---------+------+--------+--------+------+------------+\n",
      "\n"
     ]
    }
   ],
   "source": [
    "\n",
    "\n",
    "bad_status_df = null_status_df.select(regexp_extract('value', host_pattern, 1).alias('host'),\n",
    "                                      regexp_extract('value', ts_pattern, 1).alias('timestamp'),\n",
    "                                      regexp_extract('value', method_uri_protocol_pattern, 1).alias('method'),\n",
    "                                      regexp_extract('value', method_uri_protocol_pattern, 2).alias('endpoint'),\n",
    "                                      regexp_extract('value', method_uri_protocol_pattern, 3).alias('protocol'),\n",
    "                                      regexp_extract('value', status_pattern, 1).cast('integer').alias('status'),\n",
    "                                      regexp_extract('value', content_size_pattern, 1).cast('integer').alias('content_size'))\n",
    "bad_status_df.show(truncate=False)\n",
    "\n"
   ]
  },
  {
   "cell_type": "code",
   "execution_count": 24,
   "id": "a04526dc",
   "metadata": {},
   "outputs": [
    {
     "data": {
      "text/plain": [
       "1891715"
      ]
     },
     "execution_count": 24,
     "metadata": {},
     "output_type": "execute_result"
    }
   ],
   "source": [
    "logs_df.count()"
   ]
  },
  {
   "cell_type": "code",
   "execution_count": 25,
   "id": "af2626de",
   "metadata": {},
   "outputs": [
    {
     "data": {
      "text/plain": [
       "1891714"
      ]
     },
     "execution_count": 25,
     "metadata": {},
     "output_type": "execute_result"
    }
   ],
   "source": [
    "logs_df = logs_df[logs_df['status'].isNotNull()] \n",
    "logs_df.count()"
   ]
  },
  {
   "cell_type": "code",
   "execution_count": 26,
   "id": "02ace8a6",
   "metadata": {},
   "outputs": [
    {
     "name": "stdout",
     "output_type": "stream",
     "text": [
      "+----+---------+------+--------+--------+------+------------+\n",
      "|host|timestamp|method|endpoint|protocol|status|content_size|\n",
      "+----+---------+------+--------+--------+------+------------+\n",
      "|   0|        0|     0|       0|       0|     0|       19726|\n",
      "+----+---------+------+--------+--------+------+------------+\n",
      "\n"
     ]
    }
   ],
   "source": [
    "exprs = [count_null(col_name) for col_name in logs_df.columns]\n",
    "logs_df.agg(*exprs).show()"
   ]
  },
  {
   "cell_type": "code",
   "execution_count": 27,
   "id": "285b8e19",
   "metadata": {},
   "outputs": [
    {
     "data": {
      "text/plain": [
       "19727"
      ]
     },
     "execution_count": 27,
     "metadata": {},
     "output_type": "execute_result"
    }
   ],
   "source": [
    "null_content_size_df = logFile.filter(~logFile['value'].rlike(r'\\s\\d+$'))\n",
    "null_content_size_df.count()"
   ]
  },
  {
   "cell_type": "code",
   "execution_count": 28,
   "id": "cab473bd",
   "metadata": {},
   "outputs": [
    {
     "data": {
      "text/plain": [
       "[Row(value='dd15-062.compuserve.com - - [01/Jul/1995:00:01:12 -0400] \"GET /news/sci.space.shuttle/archive/sci-space-shuttle-22-apr-1995-40.txt HTTP/1.0\" 404 -'),\n",
       " Row(value='dynip42.efn.org - - [01/Jul/1995:00:02:14 -0400] \"GET /software HTTP/1.0\" 302 -'),\n",
       " Row(value='ix-or10-06.ix.netcom.com - - [01/Jul/1995:00:02:40 -0400] \"GET /software/winvn HTTP/1.0\" 302 -'),\n",
       " Row(value='ix-or10-06.ix.netcom.com - - [01/Jul/1995:00:03:24 -0400] \"GET /software HTTP/1.0\" 302 -'),\n",
       " Row(value='link097.txdirect.net - - [01/Jul/1995:00:05:06 -0400] \"GET /shuttle HTTP/1.0\" 302 -'),\n",
       " Row(value='ix-war-mi1-20.ix.netcom.com - - [01/Jul/1995:00:05:13 -0400] \"GET /shuttle/missions/sts-78/news HTTP/1.0\" 302 -'),\n",
       " Row(value='ix-war-mi1-20.ix.netcom.com - - [01/Jul/1995:00:05:58 -0400] \"GET /shuttle/missions/sts-72/news HTTP/1.0\" 302 -'),\n",
       " Row(value='netport-27.iu.net - - [01/Jul/1995:00:10:19 -0400] \"GET /pub/winvn/readme.txt HTTP/1.0\" 404 -'),\n",
       " Row(value='netport-27.iu.net - - [01/Jul/1995:00:10:28 -0400] \"GET /pub/winvn/readme.txt HTTP/1.0\" 404 -'),\n",
       " Row(value='dynip38.efn.org - - [01/Jul/1995:00:10:50 -0400] \"GET /software HTTP/1.0\" 302 -')]"
      ]
     },
     "execution_count": 28,
     "metadata": {},
     "output_type": "execute_result"
    }
   ],
   "source": [
    "null_content_size_df.take(10)"
   ]
  },
  {
   "cell_type": "code",
   "execution_count": 29,
   "id": "d4c3da80",
   "metadata": {},
   "outputs": [],
   "source": [
    "logs_df = logs_df.na.fill({'content_size': 0})"
   ]
  },
  {
   "cell_type": "code",
   "execution_count": 30,
   "id": "7f4b645d",
   "metadata": {},
   "outputs": [
    {
     "name": "stdout",
     "output_type": "stream",
     "text": [
      "+----+---------+------+--------+--------+------+------------+\n",
      "|host|timestamp|method|endpoint|protocol|status|content_size|\n",
      "+----+---------+------+--------+--------+------+------------+\n",
      "|   0|        0|     0|       0|       0|     0|           0|\n",
      "+----+---------+------+--------+--------+------+------------+\n",
      "\n"
     ]
    }
   ],
   "source": [
    "exprs = [count_null(col_name) for col_name in logs_df.columns]\n",
    "logs_df.agg(*exprs).show()"
   ]
  },
  {
   "cell_type": "code",
   "execution_count": 31,
   "id": "53f35744",
   "metadata": {},
   "outputs": [],
   "source": [
    "from pyspark.sql.functions import udf\n",
    "\n",
    "month_map = {\n",
    "  'Jan': 1, 'Feb': 2, 'Mar':3, 'Apr':4, 'May':5, 'Jun':6, 'Jul':7,\n",
    "  'Aug':8,  'Sep': 9, 'Oct':10, 'Nov': 11, 'Dec': 12\n",
    "}\n",
    "\n",
    "def parse_clf_time(text):\n",
    "    \"\"\" Convert Common Log time format into a Python datetime object\n",
    "    Args:\n",
    "        text (str): date and time in Apache time format [dd/mmm/yyyy:hh:mm:ss (+/-)zzzz]\n",
    "    Returns:\n",
    "        a string suitable for passing to CAST('timestamp')\n",
    "    \"\"\"\n",
    "    # NOTE: We're ignoring the time zones here, might need to be handled depending on the problem you are solving\n",
    "    return \"{0:04d}-{1:02d}-{2:02d} {3:02d}:{4:02d}:{5:02d}\".format(\n",
    "      int(text[7:11]),\n",
    "      month_map[text[3:6]],\n",
    "      int(text[0:2]),\n",
    "      int(text[12:14]),\n",
    "      int(text[15:17]),\n",
    "      int(text[18:20])\n",
    "    )"
   ]
  },
  {
   "cell_type": "code",
   "execution_count": 32,
   "id": "734c66ea",
   "metadata": {},
   "outputs": [
    {
     "data": {
      "text/plain": [
       "['01/Jul/1995:00:00:01 -0400',\n",
       " '01/Jul/1995:00:00:06 -0400',\n",
       " '01/Jul/1995:00:00:09 -0400',\n",
       " '01/Jul/1995:00:00:11 -0400',\n",
       " '01/Jul/1995:00:00:11 -0400',\n",
       " '01/Jul/1995:00:00:12 -0400',\n",
       " '01/Jul/1995:00:00:12 -0400',\n",
       " '01/Jul/1995:00:00:12 -0400',\n",
       " '01/Jul/1995:00:00:13 -0400',\n",
       " '01/Jul/1995:00:00:13 -0400']"
      ]
     },
     "execution_count": 32,
     "metadata": {},
     "output_type": "execute_result"
    }
   ],
   "source": [
    "\n",
    "\n",
    "sample_ts = [item['timestamp'] for item in logs_df.select('timestamp').take(10)]\n",
    "sample_ts\n",
    "\n"
   ]
  },
  {
   "cell_type": "code",
   "execution_count": 33,
   "id": "dbec01cc",
   "metadata": {},
   "outputs": [
    {
     "data": {
      "text/plain": [
       "['1995-07-01 00:00:01',\n",
       " '1995-07-01 00:00:06',\n",
       " '1995-07-01 00:00:09',\n",
       " '1995-07-01 00:00:11',\n",
       " '1995-07-01 00:00:11',\n",
       " '1995-07-01 00:00:12',\n",
       " '1995-07-01 00:00:12',\n",
       " '1995-07-01 00:00:12',\n",
       " '1995-07-01 00:00:13',\n",
       " '1995-07-01 00:00:13']"
      ]
     },
     "execution_count": 33,
     "metadata": {},
     "output_type": "execute_result"
    }
   ],
   "source": [
    "\n",
    "\n",
    "[parse_clf_time(item) for item in sample_ts]\n",
    "\n"
   ]
  },
  {
   "cell_type": "code",
   "execution_count": 34,
   "id": "f457920a",
   "metadata": {},
   "outputs": [
    {
     "name": "stdout",
     "output_type": "stream",
     "text": [
      "+--------------------+------+--------------------+--------+------+------------+-------------------+\n",
      "|                host|method|            endpoint|protocol|status|content_size|               time|\n",
      "+--------------------+------+--------------------+--------+------+------------+-------------------+\n",
      "|        199.72.81.55|   GET|    /history/apollo/|HTTP/1.0|   200|        6245|1995-07-01 00:00:01|\n",
      "|unicomp6.unicomp.net|   GET| /shuttle/countdown/|HTTP/1.0|   200|        3985|1995-07-01 00:00:06|\n",
      "|      199.120.110.21|   GET|/shuttle/missions...|HTTP/1.0|   200|        4085|1995-07-01 00:00:09|\n",
      "|  burger.letters.com|   GET|/shuttle/countdow...|HTTP/1.0|   304|           0|1995-07-01 00:00:11|\n",
      "|      199.120.110.21|   GET|/shuttle/missions...|HTTP/1.0|   200|        4179|1995-07-01 00:00:11|\n",
      "|  burger.letters.com|   GET|/images/NASA-logo...|HTTP/1.0|   304|           0|1995-07-01 00:00:12|\n",
      "|  burger.letters.com|   GET|/shuttle/countdow...|HTTP/1.0|   200|           0|1995-07-01 00:00:12|\n",
      "|     205.212.115.106|   GET|/shuttle/countdow...|HTTP/1.0|   200|        3985|1995-07-01 00:00:12|\n",
      "|         d104.aa.net|   GET| /shuttle/countdown/|HTTP/1.0|   200|        3985|1995-07-01 00:00:13|\n",
      "|      129.94.144.152|   GET|                   /|HTTP/1.0|   200|        7074|1995-07-01 00:00:13|\n",
      "+--------------------+------+--------------------+--------+------+------------+-------------------+\n",
      "only showing top 10 rows\n",
      "\n"
     ]
    }
   ],
   "source": [
    "\n",
    "\n",
    "udf_parse_time = udf(parse_clf_time)\n",
    "\n",
    "logs_df = logs_df.select('*', udf_parse_time(logs_df['timestamp']).cast('timestamp').alias('time')).drop('timestamp')\n",
    "logs_df.show(10, truncate=True)\n",
    "\n"
   ]
  },
  {
   "cell_type": "code",
   "execution_count": 35,
   "id": "16e83d9f",
   "metadata": {},
   "outputs": [
    {
     "name": "stdout",
     "output_type": "stream",
     "text": [
      "root\n",
      " |-- host: string (nullable = true)\n",
      " |-- method: string (nullable = true)\n",
      " |-- endpoint: string (nullable = true)\n",
      " |-- protocol: string (nullable = true)\n",
      " |-- status: integer (nullable = true)\n",
      " |-- content_size: integer (nullable = false)\n",
      " |-- time: timestamp (nullable = true)\n",
      "\n"
     ]
    }
   ],
   "source": [
    "\n",
    "\n",
    "logs_df.printSchema()\n",
    "\n"
   ]
  },
  {
   "cell_type": "code",
   "execution_count": 36,
   "id": "118c5d63",
   "metadata": {},
   "outputs": [
    {
     "data": {
      "text/html": [
       "<div>\n",
       "<style scoped>\n",
       "    .dataframe tbody tr th:only-of-type {\n",
       "        vertical-align: middle;\n",
       "    }\n",
       "\n",
       "    .dataframe tbody tr th {\n",
       "        vertical-align: top;\n",
       "    }\n",
       "\n",
       "    .dataframe thead th {\n",
       "        text-align: right;\n",
       "    }\n",
       "</style>\n",
       "<table border=\"1\" class=\"dataframe\">\n",
       "  <thead>\n",
       "    <tr style=\"text-align: right;\">\n",
       "      <th></th>\n",
       "      <th>host</th>\n",
       "      <th>method</th>\n",
       "      <th>endpoint</th>\n",
       "      <th>protocol</th>\n",
       "      <th>status</th>\n",
       "      <th>content_size</th>\n",
       "      <th>time</th>\n",
       "    </tr>\n",
       "  </thead>\n",
       "  <tbody>\n",
       "    <tr>\n",
       "      <th>0</th>\n",
       "      <td>199.72.81.55</td>\n",
       "      <td>GET</td>\n",
       "      <td>/history/apollo/</td>\n",
       "      <td>HTTP/1.0</td>\n",
       "      <td>200</td>\n",
       "      <td>6245</td>\n",
       "      <td>1995-07-01 00:00:01</td>\n",
       "    </tr>\n",
       "    <tr>\n",
       "      <th>1</th>\n",
       "      <td>unicomp6.unicomp.net</td>\n",
       "      <td>GET</td>\n",
       "      <td>/shuttle/countdown/</td>\n",
       "      <td>HTTP/1.0</td>\n",
       "      <td>200</td>\n",
       "      <td>3985</td>\n",
       "      <td>1995-07-01 00:00:06</td>\n",
       "    </tr>\n",
       "    <tr>\n",
       "      <th>2</th>\n",
       "      <td>199.120.110.21</td>\n",
       "      <td>GET</td>\n",
       "      <td>/shuttle/missions/sts-73/mission-sts-73.html</td>\n",
       "      <td>HTTP/1.0</td>\n",
       "      <td>200</td>\n",
       "      <td>4085</td>\n",
       "      <td>1995-07-01 00:00:09</td>\n",
       "    </tr>\n",
       "    <tr>\n",
       "      <th>3</th>\n",
       "      <td>burger.letters.com</td>\n",
       "      <td>GET</td>\n",
       "      <td>/shuttle/countdown/liftoff.html</td>\n",
       "      <td>HTTP/1.0</td>\n",
       "      <td>304</td>\n",
       "      <td>0</td>\n",
       "      <td>1995-07-01 00:00:11</td>\n",
       "    </tr>\n",
       "    <tr>\n",
       "      <th>4</th>\n",
       "      <td>199.120.110.21</td>\n",
       "      <td>GET</td>\n",
       "      <td>/shuttle/missions/sts-73/sts-73-patch-small.gif</td>\n",
       "      <td>HTTP/1.0</td>\n",
       "      <td>200</td>\n",
       "      <td>4179</td>\n",
       "      <td>1995-07-01 00:00:11</td>\n",
       "    </tr>\n",
       "    <tr>\n",
       "      <th>5</th>\n",
       "      <td>burger.letters.com</td>\n",
       "      <td>GET</td>\n",
       "      <td>/images/NASA-logosmall.gif</td>\n",
       "      <td>HTTP/1.0</td>\n",
       "      <td>304</td>\n",
       "      <td>0</td>\n",
       "      <td>1995-07-01 00:00:12</td>\n",
       "    </tr>\n",
       "    <tr>\n",
       "      <th>6</th>\n",
       "      <td>burger.letters.com</td>\n",
       "      <td>GET</td>\n",
       "      <td>/shuttle/countdown/video/livevideo.gif</td>\n",
       "      <td>HTTP/1.0</td>\n",
       "      <td>200</td>\n",
       "      <td>0</td>\n",
       "      <td>1995-07-01 00:00:12</td>\n",
       "    </tr>\n",
       "    <tr>\n",
       "      <th>7</th>\n",
       "      <td>205.212.115.106</td>\n",
       "      <td>GET</td>\n",
       "      <td>/shuttle/countdown/countdown.html</td>\n",
       "      <td>HTTP/1.0</td>\n",
       "      <td>200</td>\n",
       "      <td>3985</td>\n",
       "      <td>1995-07-01 00:00:12</td>\n",
       "    </tr>\n",
       "    <tr>\n",
       "      <th>8</th>\n",
       "      <td>d104.aa.net</td>\n",
       "      <td>GET</td>\n",
       "      <td>/shuttle/countdown/</td>\n",
       "      <td>HTTP/1.0</td>\n",
       "      <td>200</td>\n",
       "      <td>3985</td>\n",
       "      <td>1995-07-01 00:00:13</td>\n",
       "    </tr>\n",
       "    <tr>\n",
       "      <th>9</th>\n",
       "      <td>129.94.144.152</td>\n",
       "      <td>GET</td>\n",
       "      <td>/</td>\n",
       "      <td>HTTP/1.0</td>\n",
       "      <td>200</td>\n",
       "      <td>7074</td>\n",
       "      <td>1995-07-01 00:00:13</td>\n",
       "    </tr>\n",
       "  </tbody>\n",
       "</table>\n",
       "</div>"
      ],
      "text/plain": [
       "                   host method  \\\n",
       "0          199.72.81.55    GET   \n",
       "1  unicomp6.unicomp.net    GET   \n",
       "2        199.120.110.21    GET   \n",
       "3    burger.letters.com    GET   \n",
       "4        199.120.110.21    GET   \n",
       "5    burger.letters.com    GET   \n",
       "6    burger.letters.com    GET   \n",
       "7       205.212.115.106    GET   \n",
       "8           d104.aa.net    GET   \n",
       "9        129.94.144.152    GET   \n",
       "\n",
       "                                          endpoint  protocol  status  \\\n",
       "0                                 /history/apollo/  HTTP/1.0     200   \n",
       "1                              /shuttle/countdown/  HTTP/1.0     200   \n",
       "2     /shuttle/missions/sts-73/mission-sts-73.html  HTTP/1.0     200   \n",
       "3                  /shuttle/countdown/liftoff.html  HTTP/1.0     304   \n",
       "4  /shuttle/missions/sts-73/sts-73-patch-small.gif  HTTP/1.0     200   \n",
       "5                       /images/NASA-logosmall.gif  HTTP/1.0     304   \n",
       "6           /shuttle/countdown/video/livevideo.gif  HTTP/1.0     200   \n",
       "7                /shuttle/countdown/countdown.html  HTTP/1.0     200   \n",
       "8                              /shuttle/countdown/  HTTP/1.0     200   \n",
       "9                                                /  HTTP/1.0     200   \n",
       "\n",
       "   content_size                time  \n",
       "0          6245 1995-07-01 00:00:01  \n",
       "1          3985 1995-07-01 00:00:06  \n",
       "2          4085 1995-07-01 00:00:09  \n",
       "3             0 1995-07-01 00:00:11  \n",
       "4          4179 1995-07-01 00:00:11  \n",
       "5             0 1995-07-01 00:00:12  \n",
       "6             0 1995-07-01 00:00:12  \n",
       "7          3985 1995-07-01 00:00:12  \n",
       "8          3985 1995-07-01 00:00:13  \n",
       "9          7074 1995-07-01 00:00:13  "
      ]
     },
     "execution_count": 36,
     "metadata": {},
     "output_type": "execute_result"
    }
   ],
   "source": [
    "\n",
    "\n",
    "logs_df.limit(10).toPandas()\n",
    "\n"
   ]
  },
  {
   "cell_type": "code",
   "execution_count": 37,
   "id": "987bb2dd",
   "metadata": {},
   "outputs": [
    {
     "data": {
      "text/plain": [
       "DataFrame[host: string, method: string, endpoint: string, protocol: string, status: int, content_size: int, time: timestamp]"
      ]
     },
     "execution_count": 37,
     "metadata": {},
     "output_type": "execute_result"
    }
   ],
   "source": [
    "\n",
    "\n",
    "logs_df.cache()\n",
    "\n"
   ]
  },
  {
   "cell_type": "code",
   "execution_count": 53,
   "id": "54243adc",
   "metadata": {},
   "outputs": [
    {
     "name": "stdout",
     "output_type": "stream",
     "text": [
      "+---+----------+\n",
      "|day|total_reqs|\n",
      "+---+----------+\n",
      "|1  |64714     |\n",
      "|2  |60265     |\n",
      "|3  |89584     |\n",
      "|4  |70452     |\n",
      "|5  |94575     |\n",
      "|6  |100960    |\n",
      "|7  |87233     |\n",
      "|8  |38867     |\n",
      "|9  |35272     |\n",
      "|10 |72860     |\n",
      "|11 |80407     |\n",
      "|12 |92536     |\n",
      "|13 |134203    |\n",
      "|14 |84103     |\n",
      "|15 |45532     |\n",
      "|16 |47854     |\n",
      "|17 |74981     |\n",
      "|18 |64282     |\n",
      "|19 |72738     |\n",
      "|20 |66593     |\n",
      "|21 |64629     |\n",
      "|22 |35267     |\n",
      "|23 |39199     |\n",
      "|24 |64259     |\n",
      "|25 |62699     |\n",
      "|26 |58849     |\n",
      "|27 |61680     |\n",
      "|28 |27121     |\n",
      "+---+----------+\n",
      "\n"
     ]
    }
   ],
   "source": [
    "total_daily_reqests_df = (logs_df.select(F.dayofmonth(\"time\")\n",
    "                                          .alias(\"day\"))\n",
    "                              .groupBy(\"day\")\n",
    "                              .count()\n",
    "                              .sort(\"day\")\n",
    "                              .select(col(\"day\"), \n",
    "                                      col(\"count\").alias(\"total_reqs\")))\n",
    "\n",
    "total_daily_reqests_df.cache()\n",
    "\n",
    "total_daily_reqests_df.show(30,truncate=False)\n",
    "\n"
   ]
  },
  {
   "cell_type": "code",
   "execution_count": 39,
   "id": "6e9e0158",
   "metadata": {},
   "outputs": [
    {
     "data": {
      "text/html": [
       "<div>\n",
       "<style scoped>\n",
       "    .dataframe tbody tr th:only-of-type {\n",
       "        vertical-align: middle;\n",
       "    }\n",
       "\n",
       "    .dataframe tbody tr th {\n",
       "        vertical-align: top;\n",
       "    }\n",
       "\n",
       "    .dataframe thead th {\n",
       "        text-align: right;\n",
       "    }\n",
       "</style>\n",
       "<table border=\"1\" class=\"dataframe\">\n",
       "  <thead>\n",
       "    <tr style=\"text-align: right;\">\n",
       "      <th></th>\n",
       "      <th>day</th>\n",
       "      <th>total_reqs</th>\n",
       "    </tr>\n",
       "  </thead>\n",
       "  <tbody>\n",
       "    <tr>\n",
       "      <th>0</th>\n",
       "      <td>1</td>\n",
       "      <td>64714</td>\n",
       "    </tr>\n",
       "    <tr>\n",
       "      <th>1</th>\n",
       "      <td>2</td>\n",
       "      <td>60265</td>\n",
       "    </tr>\n",
       "    <tr>\n",
       "      <th>2</th>\n",
       "      <td>3</td>\n",
       "      <td>89584</td>\n",
       "    </tr>\n",
       "    <tr>\n",
       "      <th>3</th>\n",
       "      <td>4</td>\n",
       "      <td>70452</td>\n",
       "    </tr>\n",
       "    <tr>\n",
       "      <th>4</th>\n",
       "      <td>5</td>\n",
       "      <td>94575</td>\n",
       "    </tr>\n",
       "    <tr>\n",
       "      <th>5</th>\n",
       "      <td>6</td>\n",
       "      <td>100960</td>\n",
       "    </tr>\n",
       "    <tr>\n",
       "      <th>6</th>\n",
       "      <td>7</td>\n",
       "      <td>87233</td>\n",
       "    </tr>\n",
       "    <tr>\n",
       "      <th>7</th>\n",
       "      <td>8</td>\n",
       "      <td>38867</td>\n",
       "    </tr>\n",
       "    <tr>\n",
       "      <th>8</th>\n",
       "      <td>9</td>\n",
       "      <td>35272</td>\n",
       "    </tr>\n",
       "    <tr>\n",
       "      <th>9</th>\n",
       "      <td>10</td>\n",
       "      <td>72860</td>\n",
       "    </tr>\n",
       "    <tr>\n",
       "      <th>10</th>\n",
       "      <td>11</td>\n",
       "      <td>80407</td>\n",
       "    </tr>\n",
       "    <tr>\n",
       "      <th>11</th>\n",
       "      <td>12</td>\n",
       "      <td>92536</td>\n",
       "    </tr>\n",
       "    <tr>\n",
       "      <th>12</th>\n",
       "      <td>13</td>\n",
       "      <td>134203</td>\n",
       "    </tr>\n",
       "    <tr>\n",
       "      <th>13</th>\n",
       "      <td>14</td>\n",
       "      <td>84103</td>\n",
       "    </tr>\n",
       "    <tr>\n",
       "      <th>14</th>\n",
       "      <td>15</td>\n",
       "      <td>45532</td>\n",
       "    </tr>\n",
       "    <tr>\n",
       "      <th>15</th>\n",
       "      <td>16</td>\n",
       "      <td>47854</td>\n",
       "    </tr>\n",
       "    <tr>\n",
       "      <th>16</th>\n",
       "      <td>17</td>\n",
       "      <td>74981</td>\n",
       "    </tr>\n",
       "    <tr>\n",
       "      <th>17</th>\n",
       "      <td>18</td>\n",
       "      <td>64282</td>\n",
       "    </tr>\n",
       "    <tr>\n",
       "      <th>18</th>\n",
       "      <td>19</td>\n",
       "      <td>72738</td>\n",
       "    </tr>\n",
       "    <tr>\n",
       "      <th>19</th>\n",
       "      <td>20</td>\n",
       "      <td>66593</td>\n",
       "    </tr>\n",
       "    <tr>\n",
       "      <th>20</th>\n",
       "      <td>21</td>\n",
       "      <td>64629</td>\n",
       "    </tr>\n",
       "    <tr>\n",
       "      <th>21</th>\n",
       "      <td>22</td>\n",
       "      <td>35267</td>\n",
       "    </tr>\n",
       "    <tr>\n",
       "      <th>22</th>\n",
       "      <td>23</td>\n",
       "      <td>39199</td>\n",
       "    </tr>\n",
       "    <tr>\n",
       "      <th>23</th>\n",
       "      <td>24</td>\n",
       "      <td>64259</td>\n",
       "    </tr>\n",
       "    <tr>\n",
       "      <th>24</th>\n",
       "      <td>25</td>\n",
       "      <td>62699</td>\n",
       "    </tr>\n",
       "    <tr>\n",
       "      <th>25</th>\n",
       "      <td>26</td>\n",
       "      <td>58849</td>\n",
       "    </tr>\n",
       "    <tr>\n",
       "      <th>26</th>\n",
       "      <td>27</td>\n",
       "      <td>61680</td>\n",
       "    </tr>\n",
       "    <tr>\n",
       "      <th>27</th>\n",
       "      <td>28</td>\n",
       "      <td>27121</td>\n",
       "    </tr>\n",
       "  </tbody>\n",
       "</table>\n",
       "</div>"
      ],
      "text/plain": [
       "    day  total_reqs\n",
       "0     1       64714\n",
       "1     2       60265\n",
       "2     3       89584\n",
       "3     4       70452\n",
       "4     5       94575\n",
       "5     6      100960\n",
       "6     7       87233\n",
       "7     8       38867\n",
       "8     9       35272\n",
       "9    10       72860\n",
       "10   11       80407\n",
       "11   12       92536\n",
       "12   13      134203\n",
       "13   14       84103\n",
       "14   15       45532\n",
       "15   16       47854\n",
       "16   17       74981\n",
       "17   18       64282\n",
       "18   19       72738\n",
       "19   20       66593\n",
       "20   21       64629\n",
       "21   22       35267\n",
       "22   23       39199\n",
       "23   24       64259\n",
       "24   25       62699\n",
       "25   26       58849\n",
       "26   27       61680\n",
       "27   28       27121"
      ]
     },
     "execution_count": 39,
     "metadata": {},
     "output_type": "execute_result"
    }
   ],
   "source": [
    "daily_hosts_df = total_daily_reqests_df.toPandas()\n",
    "daily_hosts_df"
   ]
  },
  {
   "cell_type": "code",
   "execution_count": 40,
   "id": "0203c8f9",
   "metadata": {},
   "outputs": [],
   "source": [
    "Sat_ids = [1,8,15,22]\n",
    "Sun_ids = [2,9,16,23]\n",
    "Mond_ids =[3,10,17,24]\n",
    "Tues_ids = [4,11,18,25]\n",
    "Wed_ids =[5,12,19,26]\n",
    "Thur_ids =[6,13,20,27]\n",
    "Fri_ids=[7,14,21,28]\n",
    "\n",
    "# Weel_df\n",
    "\n",
    "Saturdays_df = total_daily_reqests_df.filter((total_daily_reqests_df[\"day\"].isin(Sat_ids)))\n",
    "\n",
    "Sundays_df = total_daily_reqests_df.filter((total_daily_reqests_df[\"day\"].isin(Sun_ids)))\n",
    "\n",
    "Mondays_df = total_daily_reqests_df.filter((total_daily_reqests_df[\"day\"].isin(Mond_ids)))\n",
    "\n",
    "Tuesdays_df = total_daily_reqests_df.filter((total_daily_reqests_df[\"day\"].isin(Tues_ids)))\n",
    "\n",
    "Wednesdays_df = total_daily_reqests_df.filter((total_daily_reqests_df[\"day\"].isin(Wed_ids)))\n",
    "\n",
    "Thursdays_df = total_daily_reqests_df.filter((total_daily_reqests_df[\"day\"].isin(Thur_ids)))\n",
    "\n",
    "Fridays_df = total_daily_reqests_df.filter((total_daily_reqests_df[\"day\"].isin(Fri_ids)))"
   ]
  },
  {
   "cell_type": "code",
   "execution_count": 41,
   "id": "0a0bd7a3",
   "metadata": {},
   "outputs": [
    {
     "name": "stdout",
     "output_type": "stream",
     "text": [
      "+---------+----------+\n",
      "|Saturdays|total_reqs|\n",
      "+---------+----------+\n",
      "|        1|     64714|\n",
      "|        8|     38867|\n",
      "|       15|     45532|\n",
      "|       22|     35267|\n",
      "+---------+----------+\n",
      "\n",
      "+-------+----------+\n",
      "|Sundays|total_reqs|\n",
      "+-------+----------+\n",
      "|      2|     60265|\n",
      "|      9|     35272|\n",
      "|     16|     47854|\n",
      "|     23|     39199|\n",
      "+-------+----------+\n",
      "\n",
      "+-------+----------+\n",
      "|Mondays|total_reqs|\n",
      "+-------+----------+\n",
      "|      3|     89584|\n",
      "|     10|     72860|\n",
      "|     17|     74981|\n",
      "|     24|     64259|\n",
      "+-------+----------+\n",
      "\n",
      "+--------+----------+\n",
      "|Tuesdays|total_reqs|\n",
      "+--------+----------+\n",
      "|       4|     70452|\n",
      "|      11|     80407|\n",
      "|      18|     64282|\n",
      "|      25|     62699|\n",
      "+--------+----------+\n",
      "\n",
      "+----------+----------+\n",
      "|Wednesdays|total_reqs|\n",
      "+----------+----------+\n",
      "|         5|     94575|\n",
      "|        12|     92536|\n",
      "|        19|     72738|\n",
      "|        26|     58849|\n",
      "+----------+----------+\n",
      "\n",
      "+---------+----------+\n",
      "|Thursdays|total_reqs|\n",
      "+---------+----------+\n",
      "|        6|    100960|\n",
      "|       13|    134203|\n",
      "|       20|     66593|\n",
      "|       27|     61680|\n",
      "+---------+----------+\n",
      "\n",
      "+-------+----------+\n",
      "|Fridays|total_reqs|\n",
      "+-------+----------+\n",
      "|      7|     87233|\n",
      "|     14|     84103|\n",
      "|     21|     64629|\n",
      "|     28|     27121|\n",
      "+-------+----------+\n",
      "\n"
     ]
    }
   ],
   "source": [
    "Saturdays_df=(Saturdays_df.withColumnRenamed(\"day\",\"Saturdays\"))\n",
    "Saturdays_df.show()\n",
    "\n",
    "Sundays_df=(Sundays_df.withColumnRenamed(\"day\",\"Sundays\"))\n",
    "Sundays_df.show()\n",
    "\n",
    "Mondays_df=(Mondays_df.withColumnRenamed(\"day\",\"Mondays\"))\n",
    "Mondays_df.show()\n",
    "\n",
    "Tuesdays_df=(Tuesdays_df.withColumnRenamed(\"day\",\"Tuesdays\"))\n",
    "Tuesdays_df.show()\n",
    "\n",
    "Wednesdays_df=(Wednesdays_df.withColumnRenamed(\"day\",\"Wednesdays\"))\n",
    "Wednesdays_df.show()\n",
    "\n",
    "Thursdays_df=(Thursdays_df.withColumnRenamed(\"day\",\"Thursdays\"))\n",
    "Thursdays_df.show()\n",
    "\n",
    "Fridays_df=(Fridays_df.withColumnRenamed(\"day\",\"Fridays\"))\n",
    "Fridays_df.show()    "
   ]
  },
  {
   "cell_type": "code",
   "execution_count": 42,
   "id": "92b48f76",
   "metadata": {},
   "outputs": [],
   "source": [
    "# total_daily_reqests_df.select(total_daily_reqests_df[\"total_reqs\"],(max(\"total_reqs\")))\n",
    "\n",
    "\n",
    "#USE WITH COL NEED IDENTICALS\n",
    "# df_concat = sat_max.union(sat_min)\n",
    "# df_concat.show()\n",
    "\n",
    "# avg_daily_reqests_per_host_df = (avg_daily_reqests_per_host_df\n",
    "#                                     .withColumn('avg_reqs', col('total_reqs') / col('total_hosts'))\n",
    "#                                     .sort(\"day\"))    "
   ]
  },
  {
   "cell_type": "code",
   "execution_count": 43,
   "id": "2a857702",
   "metadata": {},
   "outputs": [
    {
     "name": "stdout",
     "output_type": "stream",
     "text": [
      "+---------------+\n",
      "|max(total_reqs)|\n",
      "+---------------+\n",
      "|          64714|\n",
      "+---------------+\n",
      "\n",
      "+---------------+\n",
      "|min(total_reqs)|\n",
      "+---------------+\n",
      "|          35267|\n",
      "+---------------+\n",
      "\n",
      "+---------------+\n",
      "|max(total_reqs)|\n",
      "+---------------+\n",
      "|          60265|\n",
      "+---------------+\n",
      "\n",
      "+---------------+\n",
      "|min(total_reqs)|\n",
      "+---------------+\n",
      "|          35272|\n",
      "+---------------+\n",
      "\n",
      "+---------------+\n",
      "|max(total_reqs)|\n",
      "+---------------+\n",
      "|          89584|\n",
      "+---------------+\n",
      "\n",
      "+---------------+\n",
      "|min(total_reqs)|\n",
      "+---------------+\n",
      "|          64259|\n",
      "+---------------+\n",
      "\n",
      "+---------------+\n",
      "|max(total_reqs)|\n",
      "+---------------+\n",
      "|          80407|\n",
      "+---------------+\n",
      "\n",
      "+---------------+\n",
      "|min(total_reqs)|\n",
      "+---------------+\n",
      "|          62699|\n",
      "+---------------+\n",
      "\n",
      "+---------------+\n",
      "|max(total_reqs)|\n",
      "+---------------+\n",
      "|          94575|\n",
      "+---------------+\n",
      "\n",
      "+---------------+\n",
      "|min(total_reqs)|\n",
      "+---------------+\n",
      "|          58849|\n",
      "+---------------+\n",
      "\n",
      "+---------------+\n",
      "|max(total_reqs)|\n",
      "+---------------+\n",
      "|         134203|\n",
      "+---------------+\n",
      "\n",
      "+---------------+\n",
      "|min(total_reqs)|\n",
      "+---------------+\n",
      "|          61680|\n",
      "+---------------+\n",
      "\n",
      "+---------------+\n",
      "|max(total_reqs)|\n",
      "+---------------+\n",
      "|          87233|\n",
      "+---------------+\n",
      "\n",
      "+---------------+\n",
      "|min(total_reqs)|\n",
      "+---------------+\n",
      "|          27121|\n",
      "+---------------+\n",
      "\n"
     ]
    }
   ],
   "source": [
    "sat_max = Saturdays_df.agg({'total_reqs': 'max'})\n",
    "sat_min = Saturdays_df.agg({'total_reqs': 'min'})\n",
    " \n",
    "sat_max.show()\n",
    "sat_min.show() \n",
    " \n",
    "sun_max = Sundays_df.agg({'total_reqs': 'max'})\n",
    "sun_min = Sundays_df.agg({'total_reqs': 'min'})\n",
    "\n",
    "sun_max.show()\n",
    "sun_min.show() \n",
    " \n",
    "mon_max = Mondays_df.agg({'total_reqs': 'max'})\n",
    "mon_min = Mondays_df.agg({'total_reqs': 'min'})\n",
    " \n",
    "mon_max.show()\n",
    "mon_min.show() \n",
    " \n",
    " \n",
    "tue_max = Tuesdays_df.agg({'total_reqs': 'max'})\n",
    "tue_min = Tuesdays_df.agg({'total_reqs': 'min'})\n",
    " \n",
    "tue_max.show()\n",
    "tue_min.show() \n",
    " \n",
    " \n",
    "wed_max = Wednesdays_df.agg({'total_reqs': 'max'})\n",
    "wed_min = Wednesdays_df.agg({'total_reqs': 'min'})\n",
    " \n",
    "wed_max.show()\n",
    "wed_min.show() \n",
    " \n",
    " \n",
    "thur_max = Thursdays_df.agg({'total_reqs': 'max'})\n",
    "thur_min = Thursdays_df.agg({'total_reqs': 'min'})\n",
    " \n",
    "thur_max.show()\n",
    "thur_min.show() \n",
    " \n",
    " \n",
    "fri_max = Fridays_df.agg({'total_reqs': 'max'})\n",
    "fri_min = Fridays_df.agg({'total_reqs': 'min'})\n",
    "\n",
    " \n",
    "fri_max.show()\n",
    "fri_min.show() \n",
    " "
   ]
  },
  {
   "cell_type": "code",
   "execution_count": 44,
   "id": "18be501b",
   "metadata": {},
   "outputs": [
    {
     "name": "stdout",
     "output_type": "stream",
     "text": [
      "+---------------+\n",
      "|min(total_reqs)|\n",
      "+---------------+\n",
      "|          64259|\n",
      "+---------------+\n",
      "\n",
      "+---------------+\n",
      "|min(total_reqs)|\n",
      "+---------------+\n",
      "|          64259|\n",
      "|          62699|\n",
      "|          58849|\n",
      "|          61680|\n",
      "|          27121|\n",
      "|          35267|\n",
      "|          35272|\n",
      "+---------------+\n",
      "\n",
      "+---------------+-------+\n",
      "|min(total_reqs)|Mon-Sun|\n",
      "+---------------+-------+\n",
      "|          64259|      1|\n",
      "|          62699|      2|\n",
      "|          58849|      3|\n",
      "|          61680|      4|\n",
      "|          27121|      5|\n",
      "|          35267|      6|\n",
      "|          35272|      7|\n",
      "+---------------+-------+\n",
      "\n"
     ]
    }
   ],
   "source": [
    "from pyspark.sql.functions import monotonically_increasing_id, row_number\n",
    "from pyspark.sql import Window\n",
    "\n",
    "minimals = mon_min\n",
    "minimals.show()\n",
    "\n",
    "minimals = minimals.union(tue_min).union(wed_min).union(thur_min).union(fri_min).union(sat_min).union(sun_min)\n",
    "minimals.show()\n",
    "\n",
    "minimals = minimals.withColumn(\"Mon-Sun\", row_number().over(Window.orderBy(monotonically_increasing_id())))\n",
    "minimals.show()"
   ]
  },
  {
   "cell_type": "code",
   "execution_count": 45,
   "id": "5b784cc8",
   "metadata": {},
   "outputs": [
    {
     "name": "stdout",
     "output_type": "stream",
     "text": [
      "+---------------+\n",
      "|max(total_reqs)|\n",
      "+---------------+\n",
      "|          89584|\n",
      "+---------------+\n",
      "\n",
      "+---------------+\n",
      "|max(total_reqs)|\n",
      "+---------------+\n",
      "|          89584|\n",
      "|          80407|\n",
      "|          94575|\n",
      "|         134203|\n",
      "|          87233|\n",
      "|          64714|\n",
      "|          60265|\n",
      "+---------------+\n",
      "\n",
      "+---------------+-------+\n",
      "|max(total_reqs)|Mon-Sun|\n",
      "+---------------+-------+\n",
      "|          89584|      1|\n",
      "|          80407|      2|\n",
      "|          94575|      3|\n",
      "|         134203|      4|\n",
      "|          87233|      5|\n",
      "|          64714|      6|\n",
      "|          60265|      7|\n",
      "+---------------+-------+\n",
      "\n"
     ]
    }
   ],
   "source": [
    "maximals = mon_max\n",
    "maximals.show()\n",
    "\n",
    "maximals = maximals.union(tue_max).union(wed_max).union(thur_max).union(fri_max).union(sat_max).union(sun_max)\n",
    "maximals.show()\n",
    "\n",
    "maximals = maximals.withColumn(\"Mon-Sun\", row_number().over(Window.orderBy(monotonically_increasing_id())))\n",
    "maximals.show()"
   ]
  },
  {
   "cell_type": "code",
   "execution_count": 47,
   "id": "1bc2a504",
   "metadata": {},
   "outputs": [
    {
     "name": "stdout",
     "output_type": "stream",
     "text": [
      "+--------------------+------+--------------------+--------+------+------------+-------------------+\n",
      "|                host|method|            endpoint|protocol|status|content_size|               time|\n",
      "+--------------------+------+--------------------+--------+------+------------+-------------------+\n",
      "|   scheyer.clark.net|   GET|/shuttle/missions...|HTTP/1.0|   200|       49152|1995-07-01 00:00:58|\n",
      "|        pm13.j51.com|   GET|/shuttle/missions...|HTTP/1.0|   200|      305722|1995-07-01 00:01:58|\n",
      "|   scheyer.clark.net|   GET|/shuttle/missions...|HTTP/1.0|   200|      130724|1995-07-01 00:02:13|\n",
      "|piweba3y.prodigy.com|   GET|/shuttle/missions...|HTTP/1.0|   200|      647168|1995-07-01 00:03:09|\n",
      "| ppp-nyc-3-1.ios.com|   GET|/shuttle/missions...|HTTP/1.0|   200|       49152|1995-07-01 00:04:33|\n",
      "|        199.33.32.50|   GET|/shuttle/missions...|HTTP/1.0|   200|      130724|1995-07-01 00:04:36|\n",
      "|link097.txdirect.net|   GET|/shuttle/movies/a...|HTTP/1.0|   200|       49152|1995-07-01 00:05:38|\n",
      "|svasu.extern.ucsd...|   GET|/history/apollo/a...|HTTP/1.0|   200|      501126|1995-07-01 00:06:46|\n",
      "|       199.166.39.14|   GET|/shuttle/missions...|HTTP/1.0|   200|      131072|1995-07-01 00:07:37|\n",
      "|        pm13.j51.com|   GET|/shuttle/missions...|HTTP/1.0|   200|       65536|1995-07-01 00:07:40|\n",
      "|ix-li3-23.ix.netc...|   GET|/shuttle/missions...|HTTP/1.0|   200|      305722|1995-07-01 00:08:11|\n",
      "|     133.127.203.203|   GET|/shuttle/missions...|HTTP/1.0|   200|      305722|1995-07-01 00:11:08|\n",
      "|     129.188.154.200|   GET|/shuttle/missions...|HTTP/1.0|   200|      106496|1995-07-01 00:11:38|\n",
      "|dnet018.sat.texas...|   GET|/history/apollo/a...|HTTP/1.0|   200|       73728|1995-07-01 00:12:17|\n",
      "|dnet018.sat.texas...|   GET|/history/apollo/a...|HTTP/1.0|   200|       57344|1995-07-01 00:12:28|\n",
      "|pipe6.nyc.pipelin...|   GET|/shuttle/missions...|HTTP/1.0|   200|     1081049|1995-07-01 00:13:06|\n",
      "| ppp-nyc-3-1.ios.com|   GET|/shuttle/missions...|HTTP/1.0|   200|     1081049|1995-07-01 00:13:53|\n",
      "|  teleman.pr.mcs.net|   GET|/shuttle/missions...|HTTP/1.0|   200|      122880|1995-07-01 00:14:11|\n",
      "|       ip155.tmn.com|   GET|/shuttle/missions...|HTTP/1.0|   200|      305722|1995-07-01 00:16:11|\n",
      "|  teleman.pr.mcs.net|   GET|/shuttle/missions...|HTTP/1.0|   200|       65536|1995-07-01 00:16:30|\n",
      "+--------------------+------+--------------------+--------+------+------------+-------------------+\n",
      "only showing top 20 rows\n",
      "\n",
      "+------------------------------------------------------------+-----+\n",
      "|endpoint                                                    |count|\n",
      "+------------------------------------------------------------+-----+\n",
      "|/shuttle/missions/sts-70/movies/woodpecker.mpg              |3186 |\n",
      "|/shuttle/missions/sts-71/movies/crew-arrival-t38.mpg        |2597 |\n",
      "|/shuttle/missions/sts-71/movies/sts-71-launch.mpg           |1982 |\n",
      "|/shuttle/missions/sts-71/movies/sts-71-launch-3.mpg         |1917 |\n",
      "|/shuttle/missions/sts-71/movies/sts-71-tcdt-crew-walkout.mpg|1759 |\n",
      "|/shuttle/missions/sts-70/movies/sts-70-launch.mpg           |1563 |\n",
      "|/shuttle/missions/sts-71/movies/sts-71-mir-dock.mpg         |1562 |\n",
      "|/history/apollo/apollo-13/movies/apo13damage.mpg            |1558 |\n",
      "|/shuttle/missions/sts-71/movies/sts-71-mir-dock-2.mpg       |996  |\n",
      "|/shuttle/missions/sts-70/movies/sts-70-launch-srbsep.mpg    |983  |\n",
      "|/history/apollo/apollo-13/movies/apo13launch.mpg            |708  |\n",
      "|/shuttle/missions/sts-53/movies/sts-53-launch.mpg           |658  |\n",
      "+------------------------------------------------------------+-----+\n",
      "\n",
      "+-----------------------------------------------------------+-----+\n",
      "|endpoint                                                   |count|\n",
      "+-----------------------------------------------------------+-----+\n",
      "|/wxworld/mpegs/MPEG6pNgmSfc9/95072712_48.mpg               |1    |\n",
      "|/shuttle/missions/sts-70/movies/sts-70-launch-big.mpg      |1    |\n",
      "|/shuttle/countdown/lps/sts-71-s-5-i4.mpg                   |1    |\n",
      "|/shuttle/missions/sts-70/movies/movies.mpg                 |1    |\n",
      "|/shuttle/movies/sts-70-tdrs-processing.mpg                 |1    |\n",
      "|/wxworld/mpegs/MPEGwxmap96/95072720.mpg                    |1    |\n",
      "|/shuttle/countdown/lps/sts-71-s-5-i3.mpg                   |1    |\n",
      "|/shuttle/countdown/lps/sts-71-s-5-i2.mpg                   |1    |\n",
      "|/shuttle/mmovies/TDRSrelease.mpg                           |1    |\n",
      "|/shuttle/missions/sts-70/movies/sts-70-landing-approach.mpg|1    |\n",
      "|/history/apollo/apollo-13/apo13launch.mpg                  |1    |\n",
      "|/shuttle/missions/sts-71/movies/sts-71launch.mpg           |1    |\n",
      "+-----------------------------------------------------------+-----+\n",
      "\n"
     ]
    }
   ],
   "source": [
    "#  searchfor = ['*.gif']\n",
    "\n",
    "# asl_df = logs_df[logs_df['endpoint'].rlike('|'.join(searchfor))]\n",
    "\n",
    "# asl_df.limit(10).toPandas()\n",
    "\n",
    "mpg_df = logs_df[logs_df['endpoint'].contains(r'.mpg')]\n",
    "\n",
    "mpg_df.show(20,True)\n",
    "\n",
    "# 12 most and least requested\n",
    "\n",
    "# error_endpoints_freq_df = (not200_df\n",
    "#                                .groupBy('endpoint')\n",
    "#                                .count()\n",
    "#                                .sort('count', ascending=False)\n",
    "#                                .limit(10)\n",
    "#                           )\n",
    "\n",
    "Top_mov_df = (mpg_df.groupBy(\"endpoint\")\n",
    "      .count()\n",
    "      .sort('count', ascending=False)\n",
    "      .limit(12))\n",
    "\n",
    "Top_mov_df.show(20,False)\n",
    "\n",
    "Bot_mov_df = (mpg_df.groupBy(\"endpoint\")\n",
    "      .count()\n",
    "      .sort('count', ascending=True)\n",
    "      .limit(12))\n",
    "\n",
    "Bot_mov_df.show(20,False)\n",
    "\n",
    "# logs_df.select['endpoint'].contains(r'.gif').alias('.gif request')\n",
    "\n",
    "# (logs_df.select(logs_df['endpoint'].contains(r'.gif').alias('.gif request'))\n",
    "#          .groupBy(\".gif request\")\n",
    "#          .count()\n",
    "#          .sort(\".gif request\")\n",
    "#          .select(col(\".gif request\"), \n",
    "#                  col(\"count\").alias(\"total_reqs\"))).show()\n"
   ]
  },
  {
   "cell_type": "code",
   "execution_count": 48,
   "id": "508c9ca6",
   "metadata": {},
   "outputs": [
    {
     "data": {
      "image/png": "[encoded data removed]",
      "text/plain": [
       "<Figure size 2400x1200 with 1 Axes>"
      ]
     },
     "metadata": {
      "needs_background": "light"
     },
     "output_type": "display_data"
    }
   ],
   "source": [
    "# c = sns.catplot(x='day', y='count', \n",
    "#                 data=daily_hosts_df, \n",
    "#                 kind='point')\n",
    "\n",
    "#ranks = range(5,25)\n",
    "# x=[5,10,15,20,25]\n",
    "# y=[rmse_5,rmse_10,rmse_15,rmse_20,rmse_25]\n",
    "\n",
    "#Maybe no ranks\n",
    "# import tkinter\n",
    "# import matplotlib\n",
    "# import matplotlib.pyplot as plt\n",
    "# matplotlib.use('TkAgg')\n",
    "\n",
    "\n",
    "\n",
    "\n",
    "# %matplotlib inline: only draw static\n",
    "# images in the notebook\n",
    "import numpy as np\n",
    "%matplotlib inline\n",
    "\n",
    "\n",
    "# days_r =[1,2,3,4,5,6,7,8,9,10,11,12,13,14,15,16,17,18,19,20,21,22,23,24,25,26,27,28]\n",
    "#Creeaza o coloana cu numarul de zile\n",
    "\n",
    "# c = daily_hosts_df.plot(x=\"day\", y='total_reqs',kind='bar')\n",
    "\n",
    "# maximals.plot(x=\"Mon-Sun\", y='max(total_reqs)',kind='bar')\n",
    "\n",
    "  \n",
    "# to set the plot size\n",
    "plt.figure(figsize=(16, 8), dpi=150)\n",
    "\n",
    "max_plot = maximals.toPandas()\n",
    "max_plot['max(total_reqs)'].plot(x=\"Mon-Sun\",label='Max Values',kind='line')\n",
    "\n",
    "min_plot = minimals.toPandas()\n",
    "min_plot['min(total_reqs)'].plot(x=\"Mon-Sun\",label='Min Values',kind='line')\n",
    "\n",
    "\n",
    "\n",
    "  \n",
    "# using plot method to plot open prices.\n",
    "# in plot method we set the label and color of the curve.\n",
    "# tesla['Open'].plot(label='Tesla', color='orange')\n",
    "# gm['Open'].plot(label='GM')\n",
    "# ford['Open'].plot(label='Ford')\n",
    "  \n",
    "# adding title to the plot\n",
    "plt.title('Min-Max Graph of all 7 week days')\n",
    "  \n",
    "# adding Label to the x-axis\n",
    "plt.xlabel('Days')\n",
    "  \n",
    "# adding legend to the curve\n",
    "plt.legend()\n",
    "\n",
    "plt.savefig('Min-Max Graph.png')\n",
    "\n",
    "\n",
    "# daily_hosts_df.savefig('filename.png')\n",
    "\n",
    "# plt.plot(data=daily_hosts_df)\n",
    "\n",
    "#plt.plot(5, rmse_5, 'bo-', label='Rank 5')\n",
    "#plt.plot(10, rmse_10, 'rx-', label='Rank 10')\n",
    "#plt.plot(15, rmse_15, 'g+-', label='Rank 15')\n",
    "#plt.plot(20, rmse_20, 'c*-', label='Rank 20')\n",
    "#plt.plot(25, rmse_25, 'r+-', label='Rank 25')\n",
    "\n",
    "\n",
    "# plt.title('Ranks and their RMSEs')\n",
    "# plt.xlabel('Day')\n",
    "# plt.ylabel('Count')\n",
    "# plt.legend()\n",
    "# plt.show()\n",
    "# plt.savefig(\"Output/Ranks_and_RMSEs_Final.png\")\n",
    "\n",
    "\n",
    "# plt.scatter('day', 'count' , data=daily_hosts_df)\n",
    "# plt.xlabel('Day')\n",
    "# plt.ylabel('Count')\n",
    "# plt.show()\n",
    "\n",
    "\n",
    "# plt.plot('day', 'count', data=daily_hosts_df)\n"
   ]
  },
  {
   "cell_type": "code",
   "execution_count": 49,
   "id": "b372042e",
   "metadata": {},
   "outputs": [
    {
     "data": {
      "image/png": "[encoded data removed]",
      "text/plain": [
       "<Figure size 2400x1200 with 1 Axes>"
      ]
     },
     "metadata": {
      "needs_background": "light"
     },
     "output_type": "display_data"
    }
   ],
   "source": [
    "plt.figure(figsize=(16, 8), dpi=150)\n",
    "\n",
    "top_plot = Top_mov_df.toPandas()\n",
    "# top_plot['count'].plot(x=\"endpoint\",label='Top 12 Movies',kind='line')\n",
    "\n",
    "bot_plot = Bot_mov_df.toPandas()\n",
    "# bot_plot['count'].plot(x=\"endpoint\",label='Bottom 12 Movies',kind='line')\n",
    "\n",
    "# fig = plt.figure(figsize=(16, 8), dpi=150)\n",
    "\n",
    "# for frame in [top_plot, bot_plot]:\n",
    "#     plt.plot(frame['count'], frame['endpoint'])\n",
    "    \n",
    "plt.plot(top_plot['count'], top_plot['endpoint'],label='Top 12 Movies')    \n",
    "plt.plot(bot_plot['count'], bot_plot['endpoint'],label='Bottom 12 Movies')\n",
    "# plt.xlim(0,8)\n",
    "# plt.ylim(0,30)\n",
    "\n",
    "\n",
    "\n",
    "# adding title to the plot\n",
    "plt.title('Graph of Top and Bottom 12 movies')\n",
    "  \n",
    "# adding Label to the x-axis\n",
    "plt.xlabel('Requests')\n",
    " \n",
    "# adding Label to the y-axis\n",
    "plt.ylabel('Movies') \n",
    "# adding legend to the curve\n",
    "plt.legend()\n",
    "\n",
    "# set the limits \n",
    "# plt.xlim([0, 3200]) \n",
    "# plt.ylim([0, 25])\n",
    "\n",
    "plt.savefig('Movies Graph.png')"
   ]
  },
  {
   "cell_type": "markdown",
   "id": "1fcf5324",
   "metadata": {},
   "source": [
    "ALTE Chestii"
   ]
  },
  {
   "cell_type": "code",
   "execution_count": 50,
   "id": "dbea4117",
   "metadata": {},
   "outputs": [
    {
     "data": {
      "text/html": [
       "<div>\n",
       "<style scoped>\n",
       "    .dataframe tbody tr th:only-of-type {\n",
       "        vertical-align: middle;\n",
       "    }\n",
       "\n",
       "    .dataframe tbody tr th {\n",
       "        vertical-align: top;\n",
       "    }\n",
       "\n",
       "    .dataframe thead th {\n",
       "        text-align: right;\n",
       "    }\n",
       "</style>\n",
       "<table border=\"1\" class=\"dataframe\">\n",
       "  <thead>\n",
       "    <tr style=\"text-align: right;\">\n",
       "      <th></th>\n",
       "      <th>summary</th>\n",
       "      <th>value</th>\n",
       "    </tr>\n",
       "  </thead>\n",
       "  <tbody>\n",
       "    <tr>\n",
       "      <th>0</th>\n",
       "      <td>count</td>\n",
       "      <td>1891715</td>\n",
       "    </tr>\n",
       "    <tr>\n",
       "      <th>1</th>\n",
       "      <td>mean</td>\n",
       "      <td>None</td>\n",
       "    </tr>\n",
       "    <tr>\n",
       "      <th>2</th>\n",
       "      <td>stddev</td>\n",
       "      <td>None</td>\n",
       "    </tr>\n",
       "    <tr>\n",
       "      <th>3</th>\n",
       "      <td>min</td>\n",
       "      <td>***.novo.dk - - [11/Jul/1995:08:17:09 -0400] \"...</td>\n",
       "    </tr>\n",
       "    <tr>\n",
       "      <th>4</th>\n",
       "      <td>max</td>\n",
       "      <td>zzz.pe.u-tokyo.ac.jp - - [13/Jul/1995:07:17:50...</td>\n",
       "    </tr>\n",
       "  </tbody>\n",
       "</table>\n",
       "</div>"
      ],
      "text/plain": [
       "  summary                                              value\n",
       "0   count                                            1891715\n",
       "1    mean                                               None\n",
       "2  stddev                                               None\n",
       "3     min  ***.novo.dk - - [11/Jul/1995:08:17:09 -0400] \"...\n",
       "4     max  zzz.pe.u-tokyo.ac.jp - - [13/Jul/1995:07:17:50..."
      ]
     },
     "execution_count": 50,
     "metadata": {},
     "output_type": "execute_result"
    }
   ],
   "source": [
    "content_size_summary_df = logFile.describe(['value'])\n",
    "content_size_summary_df.toPandas()"
   ]
  },
  {
   "cell_type": "code",
   "execution_count": 51,
   "id": "8407c775",
   "metadata": {},
   "outputs": [
    {
     "name": "stderr",
     "output_type": "stream",
     "text": [
      "C:\\Spark\\spark-3.2.1-bin-hadoop2.7\\python\\pyspark\\sql\\column.py:322: FutureWarning: A column as 'key' in getItem is deprecated as of Spark 3.0, and will not be supported in the future release. Use `column[key]` or `column.key` syntax instead.\n",
      "  warnings.warn(\n"
     ]
    },
    {
     "name": "stdout",
     "output_type": "stream",
     "text": [
      "+--------------------+--------------------------+------------------------------------------------------------+---------------+------------------+\n",
      "|host                |timestamp                 |request                                                     |HTTP reply code|bytes in the reply|\n",
      "+--------------------+--------------------------+------------------------------------------------------------+---------------+------------------+\n",
      "|199.72.81.55        |01/Jul/1995:00:00:01 -0400|GET /history/apollo/ HTTP/1.0                               |200            |6245              |\n",
      "|unicomp6.unicomp.net|01/Jul/1995:00:00:06 -0400|GET /shuttle/countdown/ HTTP/1.0                            |200            |3985              |\n",
      "|199.120.110.21      |01/Jul/1995:00:00:09 -0400|GET /shuttle/missions/sts-73/mission-sts-73.html HTTP/1.0   |200            |4085              |\n",
      "|burger.letters.com  |01/Jul/1995:00:00:11 -0400|GET /shuttle/countdown/liftoff.html HTTP/1.0                |304            |0                 |\n",
      "|199.120.110.21      |01/Jul/1995:00:00:11 -0400|GET /shuttle/missions/sts-73/sts-73-patch-small.gif HTTP/1.0|200            |4179              |\n",
      "|burger.letters.com  |01/Jul/1995:00:00:12 -0400|GET /images/NASA-logosmall.gif HTTP/1.0                     |304            |0                 |\n",
      "|burger.letters.com  |01/Jul/1995:00:00:12 -0400|GET /shuttle/countdown/video/livevideo.gif HTTP/1.0         |200            |0                 |\n",
      "|205.212.115.106     |01/Jul/1995:00:00:12 -0400|GET /shuttle/countdown/countdown.html HTTP/1.0              |200            |3985              |\n",
      "|d104.aa.net         |01/Jul/1995:00:00:13 -0400|GET /shuttle/countdown/ HTTP/1.0                            |200            |3985              |\n",
      "|129.94.144.152      |01/Jul/1995:00:00:13 -0400|GET / HTTP/1.0                                              |200            |7074              |\n",
      "+--------------------+--------------------------+------------------------------------------------------------+---------------+------------------+\n",
      "only showing top 10 rows\n",
      "\n"
     ]
    }
   ],
   "source": [
    "# split into 5 columns using regex and split\n",
    "data = logFile.withColumn('host', F.regexp_extract('value', '^(.*) - -.*', 1)) \\\n",
    "                .withColumn('timestamp', F.regexp_extract('value', '.* - - \\[(.*)\\].*',1)) \\\n",
    "                .withColumn('request', F.regexp_extract('value', '.*\\\"(.*)\\\".*',1)) \\\n",
    "                .withColumn('HTTP reply code', F.split('value', ' ').getItem(F.size(F.split('value', ' ')) -2).cast(\"int\")) \\\n",
    "                .withColumn('bytes in the reply', F.split('value', ' ').getItem(F.size(F.split('value', ' ')) - 1).cast(\"int\")).drop(\"value\").cache()\n",
    "data.show(10,False)"
   ]
  },
  {
   "cell_type": "code",
   "execution_count": 52,
   "id": "8e9b3a20",
   "metadata": {},
   "outputs": [
    {
     "data": {
      "text/html": [
       "<div>\n",
       "<style scoped>\n",
       "    .dataframe tbody tr th:only-of-type {\n",
       "        vertical-align: middle;\n",
       "    }\n",
       "\n",
       "    .dataframe tbody tr th {\n",
       "        vertical-align: top;\n",
       "    }\n",
       "\n",
       "    .dataframe thead th {\n",
       "        text-align: right;\n",
       "    }\n",
       "</style>\n",
       "<table border=\"1\" class=\"dataframe\">\n",
       "  <thead>\n",
       "    <tr style=\"text-align: right;\">\n",
       "      <th></th>\n",
       "      <th>min_content_size</th>\n",
       "      <th>max_content_size</th>\n",
       "      <th>mean_content_size</th>\n",
       "      <th>std_content_size</th>\n",
       "      <th>count_content_size</th>\n",
       "    </tr>\n",
       "  </thead>\n",
       "  <tbody>\n",
       "    <tr>\n",
       "      <th>0</th>\n",
       "      <td>***.novo.dk - - [11/Jul/1995:08:17:09 -0400] \"...</td>\n",
       "      <td>zzz.pe.u-tokyo.ac.jp - - [13/Jul/1995:07:17:50...</td>\n",
       "      <td>NaN</td>\n",
       "      <td>NaN</td>\n",
       "      <td>1891715</td>\n",
       "    </tr>\n",
       "  </tbody>\n",
       "</table>\n",
       "</div>"
      ],
      "text/plain": [
       "                                    min_content_size  \\\n",
       "0  ***.novo.dk - - [11/Jul/1995:08:17:09 -0400] \"...   \n",
       "\n",
       "                                    max_content_size  mean_content_size  \\\n",
       "0  zzz.pe.u-tokyo.ac.jp - - [13/Jul/1995:07:17:50...                NaN   \n",
       "\n",
       "   std_content_size  count_content_size  \n",
       "0               NaN             1891715  "
      ]
     },
     "execution_count": 52,
     "metadata": {},
     "output_type": "execute_result"
    }
   ],
   "source": [
    "(logFile.agg(F.min(logFile['value']).alias('min_content_size'),\n",
    "             F.max(logFile['value']).alias('max_content_size'),\n",
    "             F.mean(logFile['value']).alias('mean_content_size'),\n",
    "             F.stddev(logFile['value']).alias('std_content_size'),\n",
    "             F.count(logFile['value']).alias('count_content_size'))\n",
    "        .toPandas())"
   ]
  }
 ],
 "metadata": {
  "kernelspec": {
   "display_name": "Python 3",
   "language": "python",
   "name": "python3"
  },
  "language_info": {
   "codemirror_mode": {
    "name": "ipython",
    "version": 3
   },
   "file_extension": ".py",
   "mimetype": "text/x-python",
   "name": "python",
   "nbconvert_exporter": "python",
   "pygments_lexer": "ipython3",
   "version": "3.8.8"
  }
 },
 "nbformat": 4,
 "nbformat_minor": 5
}
